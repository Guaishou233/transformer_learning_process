{
 "cells": [
  {
   "metadata": {},
   "cell_type": "markdown",
   "source": "## python的常用数据结构库",
   "id": "d25f01ccaafa82b7"
  },
  {
   "metadata": {},
   "cell_type": "markdown",
   "source": "list",
   "id": "30397b3692a24b4f"
  },
  {
   "metadata": {
    "collapsed": true,
    "ExecuteTime": {
     "end_time": "2025-03-03T12:48:51.367576Z",
     "start_time": "2025-03-03T12:48:51.349566Z"
    }
   },
   "cell_type": "code",
   "source": [
    "# list\n",
    "# 创建 list\n",
    "list_example = []\n",
    "list_example2 = [1,2,4,5,3]"
   ],
   "id": "initial_id",
   "outputs": [],
   "execution_count": 1
  },
  {
   "metadata": {
    "ExecuteTime": {
     "end_time": "2025-03-03T12:48:51.383675Z",
     "start_time": "2025-03-03T12:48:51.373579Z"
    }
   },
   "cell_type": "code",
   "source": [
    "# 操作\n",
    "# 计数\n",
    "list_example2.count(2)"
   ],
   "id": "2559e8f149dbd16e",
   "outputs": [
    {
     "data": {
      "text/plain": [
       "1"
      ]
     },
     "execution_count": 2,
     "metadata": {},
     "output_type": "execute_result"
    }
   ],
   "execution_count": 2
  },
  {
   "metadata": {
    "ExecuteTime": {
     "end_time": "2025-03-03T12:48:51.539936Z",
     "start_time": "2025-03-03T12:48:51.524930Z"
    }
   },
   "cell_type": "code",
   "source": [
    "# 计算\n",
    "result = sum(list_example2)\n",
    "print(result)\n",
    "result = min(list_example2)\n",
    "print(result)\n",
    "result = max(list_example2)\n",
    "print(result)"
   ],
   "id": "999b5e00f636edc2",
   "outputs": [
    {
     "name": "stdout",
     "output_type": "stream",
     "text": [
      "15\n",
      "1\n",
      "5\n"
     ]
    }
   ],
   "execution_count": 3
  },
  {
   "metadata": {
    "ExecuteTime": {
     "end_time": "2025-03-03T12:48:51.571480Z",
     "start_time": "2025-03-03T12:48:51.557474Z"
    }
   },
   "cell_type": "code",
   "source": [
    "# 添加\n",
    "print(list_example2)\n",
    "list_example2.extend(list_example2)\n",
    "print(list_example2)\n",
    "list_example2.insert(3,4)\n",
    "print(list_example2)\n",
    "list_example2.append(7)\n",
    "print(list_example2)\n"
   ],
   "id": "58a2737adb9481c0",
   "outputs": [
    {
     "name": "stdout",
     "output_type": "stream",
     "text": [
      "[1, 2, 4, 5, 3]\n",
      "[1, 2, 4, 5, 3, 1, 2, 4, 5, 3]\n",
      "[1, 2, 4, 4, 5, 3, 1, 2, 4, 5, 3]\n",
      "[1, 2, 4, 4, 5, 3, 1, 2, 4, 5, 3, 7]\n"
     ]
    }
   ],
   "execution_count": 4
  },
  {
   "metadata": {
    "ExecuteTime": {
     "end_time": "2025-03-03T12:48:51.602571Z",
     "start_time": "2025-03-03T12:48:51.588439Z"
    }
   },
   "cell_type": "code",
   "source": [
    "# 删除\n",
    "print(list_example2)\n",
    "list_example2.pop() #弹出右侧的值\n",
    "print(list_example2)\n",
    "list_example2.remove(3) #移除从左往右数的第一个为3的数\n",
    "print(list_example2)\n",
    "list_example2.pop(2) #弹出index为2的元素\n",
    "print(list_example2)\n",
    "del list_example2[0:2] #删除一指定部分\n",
    "print(list_example2)\n",
    "list_example2_copy = list_example2.copy() #浅拷贝一份\n",
    "list_example2.clear()\n",
    "print(list_example2)"
   ],
   "id": "db18ed1a133b2ae8",
   "outputs": [
    {
     "name": "stdout",
     "output_type": "stream",
     "text": [
      "[1, 2, 4, 4, 5, 3, 1, 2, 4, 5, 3, 7]\n",
      "[1, 2, 4, 4, 5, 3, 1, 2, 4, 5, 3]\n",
      "[1, 2, 4, 4, 5, 1, 2, 4, 5, 3]\n",
      "[1, 2, 4, 5, 1, 2, 4, 5, 3]\n",
      "[4, 5, 1, 2, 4, 5, 3]\n",
      "[]\n"
     ]
    }
   ],
   "execution_count": 5
  },
  {
   "metadata": {
    "ExecuteTime": {
     "end_time": "2025-03-03T12:48:51.633307Z",
     "start_time": "2025-03-03T12:48:51.619302Z"
    }
   },
   "cell_type": "code",
   "source": [
    "#改动\n",
    "list_example2 = list_example2_copy\n",
    "print(list_example2)\n",
    "list_example2.reverse()\n",
    "print(list_example2)\n",
    "list_example2.sort()\n",
    "print(list_example2)"
   ],
   "id": "3172dbaa2a64ae10",
   "outputs": [
    {
     "name": "stdout",
     "output_type": "stream",
     "text": [
      "[4, 5, 1, 2, 4, 5, 3]\n",
      "[3, 5, 4, 2, 1, 5, 4]\n",
      "[1, 2, 3, 4, 4, 5, 5]\n"
     ]
    }
   ],
   "execution_count": 6
  },
  {
   "metadata": {},
   "cell_type": "markdown",
   "source": "注意在python中for循环不支持对变量的动态修改而while可以",
   "id": "115467dbcff857cf"
  }
 ],
 "metadata": {
  "kernelspec": {
   "display_name": "Python 3",
   "language": "python",
   "name": "python3"
  },
  "language_info": {
   "codemirror_mode": {
    "name": "ipython",
    "version": 2
   },
   "file_extension": ".py",
   "mimetype": "text/x-python",
   "name": "python",
   "nbconvert_exporter": "python",
   "pygments_lexer": "ipython2",
   "version": "2.7.6"
  }
 },
 "nbformat": 4,
 "nbformat_minor": 5
}
