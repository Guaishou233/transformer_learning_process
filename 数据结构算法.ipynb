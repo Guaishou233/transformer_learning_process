{
 "cells": [
  {
   "metadata": {},
   "cell_type": "markdown",
   "source": "# python的常用数据结构库",
   "id": "d25f01ccaafa82b7"
  },
  {
   "metadata": {},
   "cell_type": "markdown",
   "source": "## list",
   "id": "30397b3692a24b4f"
  },
  {
   "metadata": {
    "collapsed": true,
    "ExecuteTime": {
     "end_time": "2025-03-03T12:48:51.367576Z",
     "start_time": "2025-03-03T12:48:51.349566Z"
    }
   },
   "cell_type": "code",
   "source": [
    "import collections\n",
    "from idlelib.tree import TreeNode\n",
    "\n",
    "from unicodedata import digit\n",
    "\n",
    "# list\n",
    "# 创建 list\n",
    "list_example = []\n",
    "list_example2 = [1,2,4,5,3]"
   ],
   "id": "initial_id",
   "outputs": [],
   "execution_count": 1
  },
  {
   "metadata": {
    "ExecuteTime": {
     "end_time": "2025-03-03T12:48:51.383675Z",
     "start_time": "2025-03-03T12:48:51.373579Z"
    }
   },
   "cell_type": "code",
   "source": [
    "# 操作\n",
    "# 计数\n",
    "list_example2.count(2)"
   ],
   "id": "2559e8f149dbd16e",
   "outputs": [
    {
     "data": {
      "text/plain": [
       "1"
      ]
     },
     "execution_count": 2,
     "metadata": {},
     "output_type": "execute_result"
    }
   ],
   "execution_count": 2
  },
  {
   "metadata": {
    "ExecuteTime": {
     "end_time": "2025-03-03T12:48:51.539936Z",
     "start_time": "2025-03-03T12:48:51.524930Z"
    }
   },
   "cell_type": "code",
   "source": [
    "# 计算\n",
    "result = sum(list_example2)\n",
    "print(result)\n",
    "result = min(list_example2)\n",
    "print(result)\n",
    "result = max(list_example2)\n",
    "print(result)"
   ],
   "id": "999b5e00f636edc2",
   "outputs": [
    {
     "name": "stdout",
     "output_type": "stream",
     "text": [
      "15\n",
      "1\n",
      "5\n"
     ]
    }
   ],
   "execution_count": 3
  },
  {
   "metadata": {
    "ExecuteTime": {
     "end_time": "2025-03-03T12:48:51.571480Z",
     "start_time": "2025-03-03T12:48:51.557474Z"
    }
   },
   "cell_type": "code",
   "source": [
    "# 添加\n",
    "print(list_example2)\n",
    "list_example2.extend(list_example2)\n",
    "print(list_example2)\n",
    "list_example2.insert(3,4)\n",
    "print(list_example2)\n",
    "list_example2.append(7)\n",
    "print(list_example2)\n"
   ],
   "id": "58a2737adb9481c0",
   "outputs": [
    {
     "name": "stdout",
     "output_type": "stream",
     "text": [
      "[1, 2, 4, 5, 3]\n",
      "[1, 2, 4, 5, 3, 1, 2, 4, 5, 3]\n",
      "[1, 2, 4, 4, 5, 3, 1, 2, 4, 5, 3]\n",
      "[1, 2, 4, 4, 5, 3, 1, 2, 4, 5, 3, 7]\n"
     ]
    }
   ],
   "execution_count": 4
  },
  {
   "metadata": {
    "ExecuteTime": {
     "end_time": "2025-03-03T12:48:51.602571Z",
     "start_time": "2025-03-03T12:48:51.588439Z"
    }
   },
   "cell_type": "code",
   "source": [
    "# 删除\n",
    "print(list_example2)\n",
    "list_example2.pop() #弹出右侧的值\n",
    "print(list_example2)\n",
    "list_example2.remove(3) #移除从左往右数的第一个为3的数\n",
    "print(list_example2)\n",
    "list_example2.pop(2) #弹出index为2的元素\n",
    "print(list_example2)\n",
    "del list_example2[0:2] #删除一指定部分\n",
    "print(list_example2)\n",
    "list_example2_copy = list_example2.copy() #浅拷贝一份\n",
    "list_example2.clear()\n",
    "print(list_example2)"
   ],
   "id": "db18ed1a133b2ae8",
   "outputs": [
    {
     "name": "stdout",
     "output_type": "stream",
     "text": [
      "[1, 2, 4, 4, 5, 3, 1, 2, 4, 5, 3, 7]\n",
      "[1, 2, 4, 4, 5, 3, 1, 2, 4, 5, 3]\n",
      "[1, 2, 4, 4, 5, 1, 2, 4, 5, 3]\n",
      "[1, 2, 4, 5, 1, 2, 4, 5, 3]\n",
      "[4, 5, 1, 2, 4, 5, 3]\n",
      "[]\n"
     ]
    }
   ],
   "execution_count": 5
  },
  {
   "metadata": {
    "ExecuteTime": {
     "end_time": "2025-03-03T12:48:51.633307Z",
     "start_time": "2025-03-03T12:48:51.619302Z"
    }
   },
   "cell_type": "code",
   "source": [
    "#改动\n",
    "list_example2 = list_example2_copy\n",
    "print(list_example2)\n",
    "list_example2.reverse()\n",
    "print(list_example2)\n",
    "list_example2.sort()\n",
    "# sort的排序是从小到大排序的\n",
    "print(list_example2)"
   ],
   "id": "3172dbaa2a64ae10",
   "outputs": [
    {
     "name": "stdout",
     "output_type": "stream",
     "text": [
      "[4, 5, 1, 2, 4, 5, 3]\n",
      "[3, 5, 4, 2, 1, 5, 4]\n",
      "[1, 2, 3, 4, 4, 5, 5]\n"
     ]
    }
   ],
   "execution_count": 6
  },
  {
   "metadata": {},
   "cell_type": "markdown",
   "source": "注意在python中for循环不支持对变量的动态修改而while可以",
   "id": "115467dbcff857cf"
  },
  {
   "metadata": {},
   "cell_type": "markdown",
   "source": "## 字符串",
   "id": "a531d59ea9cab52f"
  },
  {
   "metadata": {
    "ExecuteTime": {
     "end_time": "2025-03-05T04:04:15.536829Z",
     "start_time": "2025-03-05T04:04:15.527567Z"
    }
   },
   "cell_type": "code",
   "source": [
    "# 创建字符串\n",
    "string_example = 'hello world'\n",
    "string_example2 = ''.join(string_example)\n"
   ],
   "id": "926a1cbd20b0fbe5",
   "outputs": [],
   "execution_count": 1
  },
  {
   "metadata": {
    "ExecuteTime": {
     "end_time": "2025-03-05T04:54:26.763989Z",
     "start_time": "2025-03-05T04:54:26.755032Z"
    }
   },
   "cell_type": "code",
   "source": [
    "# 修改字符串\n",
    "string_example3 = string_example.capitalize()\n",
    "print(string_example3)\n",
    "\n",
    "string_example4 = string_example3.casefold()\n",
    "print(string_example4)\n",
    "\n",
    "string_example5 = string_example3.center(32,'-')\n",
    "print(string_example5)\n",
    "\n",
    "string_example6 = string_example3.rjust(32,'-')\n",
    "print(string_example6)\n",
    "\n",
    "find_result = string_example6.endswith('world',0,1)\n",
    "print(find_result)\n",
    "\n",
    "find_result = string_example6.endswith('world',0,len(string_example6))\n",
    "print(find_result)\n",
    "# 对应的还有startwith等方法\n",
    "\n",
    "find_substring = string_example6.find('world')\n",
    "# 找到目标字串所在的字符串的最小索引\n",
    "print(find_substring)\n",
    "# 对应的还有有rfind，从右边开始找\n",
    "\n",
    "string_example7 = 'what is {0}'\n",
    "string_example8 = string_example7.format(string_example)\n",
    "print(string_example8)\n",
    "\n",
    "string_example9 = string_example8.lstrip('what is ')\n",
    "print(string_example9)\n",
    "# 使用lstrip的作用是移除字符串前面包含了'what is '里任何一个字符的字符直到第一个字符不在'what is '里\n",
    "\n",
    "string_example10 = string_example8.removeprefix('what is ')\n",
    "# 这个就是正常逻辑里的移除前缀\n",
    "print(string_example10)\n",
    "\n",
    "\n",
    "string_example11 = string_example.replace('world','guaishou')\n",
    "print(string_example11)"
   ],
   "id": "d6ef61382ec554a4",
   "outputs": [
    {
     "name": "stdout",
     "output_type": "stream",
     "text": [
      "Hello world\n",
      "hello world\n",
      "----------Hello world-----------\n",
      "---------------------Hello world\n",
      "False\n",
      "True\n",
      "27\n",
      "what is hello world\n",
      "ello world\n",
      "hello world\n",
      "hello guaishou\n"
     ]
    }
   ],
   "execution_count": 14
  },
  {
   "metadata": {
    "ExecuteTime": {
     "end_time": "2025-03-05T05:05:48.940981Z",
     "start_time": "2025-03-05T05:05:48.930425Z"
    }
   },
   "cell_type": "code",
   "source": [
    "# 字符串输出\n",
    "print(string_example11)\n",
    "print('%(string_example11)s how are you %(digit)02d'%{'string_example11': string_example11, 'digit':4000.1113})\n",
    "\n",
    "# 推荐输出方式\n",
    "print(f\"{string_example11} how are you? it is {40000.1134:.2f}\")"
   ],
   "id": "141d5d9552f2bf92",
   "outputs": [
    {
     "name": "stdout",
     "output_type": "stream",
     "text": [
      "hello guaishou\n",
      "hello guaishou how are you 4000\n",
      "hello guaishou how are you? it is 40000.11\n"
     ]
    }
   ],
   "execution_count": 21
  },
  {
   "metadata": {},
   "cell_type": "markdown",
   "source": "## dict",
   "id": "2d5cb8a1203994c"
  },
  {
   "metadata": {
    "ExecuteTime": {
     "end_time": "2025-03-07T14:15:36.768709Z",
     "start_time": "2025-03-07T14:15:36.753158Z"
    }
   },
   "cell_type": "code",
   "source": [
    "# 字典的创建\n",
    "import collections\n",
    "dict_example = {}\n",
    "dict_example2 = { 'key' : 'value', 'key2' : 'value2' }\n",
    "dict_example3 = collections.defaultdict() #这个要高级点，存入一个不存在key的元素的时候不会报错"
   ],
   "id": "d131afc228b363b6",
   "outputs": [],
   "execution_count": 1
  },
  {
   "metadata": {
    "ExecuteTime": {
     "end_time": "2025-03-07T14:15:38.184302Z",
     "start_time": "2025-03-07T14:15:38.166820Z"
    }
   },
   "cell_type": "code",
   "source": [
    "# 字典的遍历\n",
    "for key, value in dict_example2.items():\n",
    "    print(key, value)\n",
    "\n",
    "for key in dict_example2:\n",
    "    print(key)\n",
    "\n",
    "for value in dict_example2.values():\n",
    "    print(value)\n",
    "\n",
    "key_list = list(dict_example2.keys())\n",
    "value_list = list(dict_example2.values())\n",
    "print(key_list, value_list)\n",
    "\n",
    "dict_example2['hello'] = 'world'\n",
    "print(dict_example2)\n",
    "\n",
    "del dict_example2['hello']\n",
    "print(dict_example2)\n",
    "\n",
    "value = dict_example2.pop('key2')\n",
    "print(value)\n",
    "print(dict_example2)\n",
    "value = dict_example2.get('key')\n",
    "print(value)"
   ],
   "id": "deadc15179b930d2",
   "outputs": [
    {
     "name": "stdout",
     "output_type": "stream",
     "text": [
      "key value\n",
      "key2 value2\n",
      "key\n",
      "key2\n",
      "value\n",
      "value2\n",
      "['key', 'key2'] ['value', 'value2']\n",
      "{'key': 'value', 'key2': 'value2', 'hello': 'world'}\n",
      "{'key': 'value', 'key2': 'value2'}\n",
      "value2\n",
      "{'key': 'value'}\n",
      "value\n"
     ]
    }
   ],
   "execution_count": 2
  },
  {
   "metadata": {},
   "cell_type": "markdown",
   "source": "## set",
   "id": "6a0d5797a6bd1cfb"
  },
  {
   "metadata": {
    "ExecuteTime": {
     "end_time": "2025-03-07T13:56:07.416090Z",
     "start_time": "2025-03-07T13:56:07.406797Z"
    }
   },
   "cell_type": "code",
   "source": [
    "# 创建set\n",
    "set_example = {}\n",
    "set_example1 = {'goot','bad'} # set 里只能放不可变的数据类型，不能放可变类型。\n",
    "set_example2 = set(set_example1) #使用 set() 函数传递的可迭代对象里的元素必须是可哈希类型的"
   ],
   "id": "65e4c6fa09418",
   "outputs": [],
   "execution_count": 1
  },
  {
   "metadata": {
    "ExecuteTime": {
     "end_time": "2025-03-07T14:00:44.366448Z",
     "start_time": "2025-03-07T14:00:44.358432Z"
    }
   },
   "cell_type": "code",
   "source": [
    "# set 操作\n",
    "string_list = ['hot','bad']\n",
    "set_example3 = set(string_list)\n",
    "print((len(set_example3)))\n",
    "\n",
    "print('hot' in set_example3)\n",
    "\n",
    "print('bad' not in set_example3)\n",
    "\n",
    "set_example4 = set(['good','bad','hot','cold'])\n",
    "\n",
    "print(set_example3 <= set_example4)\n",
    "\n",
    "print(set_example3 | set_example2)\n",
    "\n",
    "print(set_example3 & set_example2)\n",
    "\n",
    "print(set_example3 - set_example2) # 这个就是返回的set_example3中与set_example2 集合的交集相减后剩下的集合\n",
    "\n",
    "print(set_example3 ^ set_example2) # 这个就是除了交集外剩下的元素\n",
    "\n",
    "\n",
    "set_example5 = set(['good','bad','hot','cold'])\n",
    "print(set_example5)\n",
    "set_example5.discard('good')\n",
    "print(set_example5)\n",
    "set_example5.add('hello')\n",
    "print(set_example5)\n",
    "set_example5.clear()\n",
    "print(set_example5)"
   ],
   "id": "a91d1602af6dc6cb",
   "outputs": [
    {
     "name": "stdout",
     "output_type": "stream",
     "text": [
      "2\n",
      "True\n",
      "False\n",
      "True\n",
      "{'goot', 'hot', 'bad'}\n",
      "{'bad'}\n",
      "{'hot'}\n",
      "{'goot', 'hot'}\n",
      "{'hot', 'cold', 'good', 'bad'}\n",
      "{'hot', 'cold', 'bad'}\n",
      "{'hot', 'cold', 'bad', 'hello'}\n",
      "set()\n"
     ]
    }
   ],
   "execution_count": 4
  },
  {
   "metadata": {},
   "cell_type": "markdown",
   "source": "## counter",
   "id": "8c0b8998766482ac"
  },
  {
   "metadata": {
    "ExecuteTime": {
     "end_time": "2025-03-11T12:05:41.963707Z",
     "start_time": "2025-03-11T12:05:41.949700Z"
    }
   },
   "cell_type": "code",
   "source": [
    "# 创建\n",
    "import collections\n",
    "counter_example = collections.Counter()\n",
    "counter_example1 = collections.Counter([1,2,3,4,5])\n",
    "print(counter_example1)\n",
    "counter_example2 = collections.Counter({'cat':1,'dog':2})\n",
    "print(counter_example2)\n",
    "counter_example3 = collections.Counter(doge = 1,cat = 2)\n",
    "print(counter_example3)"
   ],
   "id": "7441b29267714e13",
   "outputs": [
    {
     "name": "stdout",
     "output_type": "stream",
     "text": [
      "Counter({1: 1, 2: 1, 3: 1, 4: 1, 5: 1})\n",
      "Counter({'dog': 2, 'cat': 1})\n",
      "Counter({'cat': 2, 'doge': 1})\n"
     ]
    }
   ],
   "execution_count": 4
  },
  {
   "metadata": {
    "ExecuteTime": {
     "end_time": "2025-03-11T12:18:48.551915Z",
     "start_time": "2025-03-11T12:18:48.540139Z"
    }
   },
   "cell_type": "code",
   "source": [
    "# 查询\n",
    "# 存在 返回对应个数\n",
    "c = counter_example3['cat']\n",
    "print(c)\n",
    "# 不存在 返回0\n",
    "c = counter_example3['snake']\n",
    "print(c)\n",
    "\n",
    "# 将counter内的元素按数量依次返回 返回的是一个迭代器对象\n",
    "print(counter_example3.elements())\n",
    "for value in counter_example3.elements():\n",
    "    print(value)\n",
    "\n",
    "# 按出现频率降序返回指定数量的元素，如果没有指定数量返回所有\n",
    "print(counter_example3.most_common())\n",
    "print(str.center(\"分割线\",20,'-'))\n",
    "print(counter_example3.most_common(1))\n",
    "\n",
    "# 返回所有元素出现总数\n",
    "print(counter_example3.total())"
   ],
   "id": "5a84cc88525ed591",
   "outputs": [
    {
     "name": "stdout",
     "output_type": "stream",
     "text": [
      "2\n",
      "0\n",
      "<itertools.chain object at 0x0000023E6BCF82B0>\n",
      "doge\n",
      "cat\n",
      "cat\n",
      "[('cat', 2), ('doge', 1)]\n",
      "--------分割线---------\n",
      "[('cat', 2)]\n",
      "3\n"
     ]
    }
   ],
   "execution_count": 12
  },
  {
   "metadata": {
    "ExecuteTime": {
     "end_time": "2025-03-11T12:28:01.869034Z",
     "start_time": "2025-03-11T12:28:01.861015Z"
    }
   },
   "cell_type": "code",
   "source": [
    "# 修改\n",
    "counter_example4 = collections.Counter({'cat':1,'dog':2,'snake':3,'duck':4})\n",
    "counter_example4.subtract({'dog':2})\n",
    "print(\"counter_example4\".center(20,'-'))\n",
    "print(counter_example4)\n",
    "\n",
    "# counter 间的运算\n",
    "print(\"运算\".center(20,'-'))\n",
    "print(\"counter_example5\".center(20,'-'))\n",
    "counter_example5 = collections.Counter({'cat':1,'dog':2})\n",
    "print(counter_example5)\n",
    "\n",
    "print(\"运算- \".center(20,'-'))\n",
    "counter_example6 = counter_example5 - counter_example4 #数量为减为零后会直接消失\n",
    "print(counter_example6)\n",
    "print(\"运算+ \".center(20,'-'))\n",
    "counter_example7 = counter_example5 + counter_example4\n",
    "print(counter_example7)\n",
    "print(\"运算& 求所有元素的最小值同时提出非公共有元素 \".center(20,'-'))\n",
    "counter_example8 = counter_example5 & counter_example4\n",
    "print(counter_example8)\n",
    "print(\"运算& 求所有元素的最大值同时合并所有有元素 \".center(20,'-'))\n",
    "counter_example9 = counter_example5 | counter_example4\n",
    "print(counter_example9)\n",
    "print(\"运算== 比较所有元素是否相等 \".center(20,'-'))\n",
    "counter_example10 = counter_example5 == counter_example4\n",
    "print(counter_example10)\n",
    "print(\"运算<= 等价于c[x] <= d[x] \".center(20,'-'))\n",
    "counter_example11 = counter_example5 <= counter_example4\n",
    "print(counter_example11)\n"
   ],
   "id": "19b10d6341f209d9",
   "outputs": [
    {
     "name": "stdout",
     "output_type": "stream",
     "text": [
      "--counter_example4--\n",
      "Counter({'duck': 4, 'snake': 3, 'cat': 1, 'dog': 0})\n",
      "---------运算---------\n",
      "--counter_example5--\n",
      "Counter({'dog': 2, 'cat': 1})\n",
      "--------运算- --------\n",
      "Counter({'dog': 2})\n",
      "--------运算+ --------\n",
      "Counter({'duck': 4, 'snake': 3, 'cat': 2, 'dog': 2})\n",
      "运算& 求所有元素的最小值同时提出非公共有元素 \n",
      "Counter({'cat': 1})\n",
      "运算& 求所有元素的最大值同时合并所有有元素 \n",
      "Counter({'duck': 4, 'snake': 3, 'dog': 2, 'cat': 1})\n",
      "--运算== 比较所有元素是否相等 --\n",
      "False\n",
      "运算<= 等价于c[x] <= d[x] \n",
      "False\n"
     ]
    }
   ],
   "execution_count": 25
  },
  {
   "metadata": {},
   "cell_type": "markdown",
   "source": "## 二分查找",
   "id": "c5fad4806b05f4a"
  },
  {
   "metadata": {
    "ExecuteTime": {
     "end_time": "2025-03-11T11:47:25.203739Z",
     "start_time": "2025-03-11T11:47:25.181737Z"
    }
   },
   "cell_type": "code",
   "source": [
    "import bisect\n",
    "\n",
    "sequence = [1,2,3,4,5]\n",
    "# 查找\n",
    "index_left = bisect.bisect_left(sequence,1) #这个方法只能用来查找左侧插入点并不会修改原序列\n",
    "print(index_left)\n",
    "index_right = bisect.bisect_right(sequence,1)\n",
    "print(index_right)\n",
    "index_min = bisect.bisect_right(sequence,3) #如果序列中没有这个数就会返回里这个最接近的数的index\n",
    "print(index_min)"
   ],
   "id": "3210e7826e24d117",
   "outputs": [
    {
     "name": "stdout",
     "output_type": "stream",
     "text": [
      "0\n",
      "1\n",
      "3\n"
     ]
    }
   ],
   "execution_count": 1
  },
  {
   "metadata": {
    "ExecuteTime": {
     "end_time": "2025-03-11T11:47:26.602260Z",
     "start_time": "2025-03-11T11:47:26.597258Z"
    }
   },
   "cell_type": "code",
   "source": [
    "# 插入 会修改原sequence 会执行两个步奏，1.找到插入位置，2.插入元素\n",
    "bisect.insort_left(sequence,2.0) #在左侧插入\n",
    "print(sequence)\n",
    "bisect.insort_right(sequence,2) #在右侧插入\n",
    "print(sequence)\n",
    "bisect.insort(sequence,5.0)  #默认是插入点的右边插入\n",
    "print(sequence)"
   ],
   "id": "2402bc608bc4cbcb",
   "outputs": [
    {
     "name": "stdout",
     "output_type": "stream",
     "text": [
      "[1, 2.0, 2, 3, 4, 5]\n",
      "[1, 2.0, 2, 2, 3, 4, 5]\n",
      "[1, 2.0, 2, 2, 3, 4, 5, 5.0]\n"
     ]
    }
   ],
   "execution_count": 2
  },
  {
   "metadata": {},
   "cell_type": "markdown",
   "source": "## 堆 heapq",
   "id": "d1a6269bc8b1f08e"
  },
  {
   "metadata": {
    "ExecuteTime": {
     "end_time": "2025-03-12T05:51:16.141710Z",
     "start_time": "2025-03-12T05:51:16.137426Z"
    }
   },
   "cell_type": "code",
   "source": [
    "import heapq\n",
    "# 这个库只实现了最小堆，如果需要最大堆可以将输入取反然后输入到堆中，输出的时候再取反\n",
    "# 创建\n",
    "heap_example1 = []\n",
    "item = 6\n",
    "print('将数字压入空列表创建heap'.center(50,'-'))\n",
    "heapq.heappush(heap_example1,item)\n",
    "print(heap_example1)\n",
    "\n",
    "print('直接输入list变为heap'.center(50,'-'))\n",
    "heap_example2 = [1,2,3,4,5]\n",
    "heapq.heapify(heap_example2)\n",
    "print(heap_example2)"
   ],
   "id": "eed7cf736f2b5cda",
   "outputs": [
    {
     "name": "stdout",
     "output_type": "stream",
     "text": [
      "------------------将数字压入空列表创建heap------------------\n",
      "[6]\n",
      "------------------直接输入list变为heap------------------\n",
      "[1, 2, 3, 4, 5]\n"
     ]
    }
   ],
   "execution_count": 2
  },
  {
   "metadata": {},
   "cell_type": "code",
   "outputs": [],
   "execution_count": null,
   "source": [
    "# 增加 删除 查找\n",
    "print(heap_example2)\n",
    "print('查找顶堆的元素(最小值)并弹出'.center(50,'-'))\n",
    "print(heapq.heappop(heap_example2))\n",
    "print(heap_example2)\n",
    "print('往堆里添加元素'.center(50,'-'))\n",
    "heapq.heappush(heap_example2,7)\n",
    "print(heap_example2)\n",
    "print('往堆里添加元素并弹出最小值'.center(50,'-'))\n",
    "heapq.heappushpop(heap_example2,3)\n",
    "print(heap_example2)\n",
    "# replace 方法和 heappush方法差不多，但是后者是保留较大的值返回小的值\n",
    "heapq.heapreplace(heap_example2,3)\n",
    "print(heap_example2)\n",
    "print('合成堆'.center(50,'-'))\n",
    "heap_example3 = list(heapq.merge(heap_example1,heap_example2)) #这里返回的是一个可迭代对象\n",
    "heapq.heapify(heap_example3)\n",
    "print(heap_example3)\n",
    "\n",
    "print('弹出最大的n个数'.center(50,'-'))\n",
    "print(heapq.nlargest(2,heap_example3))\n",
    "print(heap_example3)\n",
    "print(heapq.nsmallest(2,heap_example3))\n",
    "print(heap_example3)\n",
    "# 不会修改堆的大小"
   ],
   "id": "935f0159ee44e545"
  },
  {
   "metadata": {},
   "cell_type": "markdown",
   "source": "## 二叉树",
   "id": "116162e16742e723"
  },
  {
   "metadata": {
    "ExecuteTime": {
     "end_time": "2025-03-24T11:53:38.322636Z",
     "start_time": "2025-03-24T11:53:38.311117Z"
    }
   },
   "cell_type": "code",
   "source": [
    "# 从顺序存储中构建二叉树\n",
    "# 输入数组为[2,7,9,-1,1,9,6,-1,-1,10]\n",
    "node_list  = [2,7,9,-1,1,9,6,-1,-1,10]\n",
    "\n",
    "class TreeNode(object):\n",
    "    def __init__(self, x):\n",
    "        self.val = x\n",
    "        self.left = None\n",
    "        self.right = None\n",
    "\n",
    "node_list = list(map(TreeNode, node_list))\n",
    "root = node_list[0]\n",
    "\n",
    "for index in range(len(node_list)):\n",
    "    if index * 2 + 1 >= len(node_list):\n",
    "        break\n",
    "    if node_list[index] is not None:\n",
    "        node_list[index].left = node_list[index * 2 + 1]\n",
    "        if index * 2 + 2 < len(node_list):\n",
    "            node_list[index].right = node_list[index * 2 + 2]\n",
    "\n",
    "def dfs(root):\n",
    "    if root is None:\n",
    "        return\n",
    "    dfs(root.left)\n",
    "    print(root.val)\n",
    "    dfs(root.right)\n",
    "\n",
    "dfs(root)"
   ],
   "id": "71c18c065950ab11",
   "outputs": [
    {
     "name": "stdout",
     "output_type": "stream",
     "text": [
      "-1\n",
      "-1\n",
      "-1\n",
      "7\n",
      "10\n",
      "1\n",
      "2\n",
      "9\n",
      "9\n",
      "6\n"
     ]
    }
   ],
   "execution_count": 11
  },
  {
   "metadata": {},
   "cell_type": "code",
   "outputs": [],
   "execution_count": null,
   "source": "",
   "id": "a7fffc8c5b6df2e7"
  }
 ],
 "metadata": {
  "kernelspec": {
   "display_name": "Python 3",
   "language": "python",
   "name": "python3"
  },
  "language_info": {
   "codemirror_mode": {
    "name": "ipython",
    "version": 2
   },
   "file_extension": ".py",
   "mimetype": "text/x-python",
   "name": "python",
   "nbconvert_exporter": "python",
   "pygments_lexer": "ipython2",
   "version": "2.7.6"
  }
 },
 "nbformat": 4,
 "nbformat_minor": 5
}
