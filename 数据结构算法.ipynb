{
 "cells": [
  {
   "metadata": {},
   "cell_type": "markdown",
   "source": "# python的常用数据结构库",
   "id": "d25f01ccaafa82b7"
  },
  {
   "metadata": {},
   "cell_type": "markdown",
   "source": "## list",
   "id": "30397b3692a24b4f"
  },
  {
   "metadata": {
    "collapsed": true,
    "ExecuteTime": {
     "end_time": "2025-03-03T12:48:51.367576Z",
     "start_time": "2025-03-03T12:48:51.349566Z"
    }
   },
   "cell_type": "code",
   "source": [
    "from unicodedata import digit\n",
    "\n",
    "# list\n",
    "# 创建 list\n",
    "list_example = []\n",
    "list_example2 = [1,2,4,5,3]"
   ],
   "id": "initial_id",
   "outputs": [],
   "execution_count": 1
  },
  {
   "metadata": {
    "ExecuteTime": {
     "end_time": "2025-03-03T12:48:51.383675Z",
     "start_time": "2025-03-03T12:48:51.373579Z"
    }
   },
   "cell_type": "code",
   "source": [
    "# 操作\n",
    "# 计数\n",
    "list_example2.count(2)"
   ],
   "id": "2559e8f149dbd16e",
   "outputs": [
    {
     "data": {
      "text/plain": [
       "1"
      ]
     },
     "execution_count": 2,
     "metadata": {},
     "output_type": "execute_result"
    }
   ],
   "execution_count": 2
  },
  {
   "metadata": {
    "ExecuteTime": {
     "end_time": "2025-03-03T12:48:51.539936Z",
     "start_time": "2025-03-03T12:48:51.524930Z"
    }
   },
   "cell_type": "code",
   "source": [
    "# 计算\n",
    "result = sum(list_example2)\n",
    "print(result)\n",
    "result = min(list_example2)\n",
    "print(result)\n",
    "result = max(list_example2)\n",
    "print(result)"
   ],
   "id": "999b5e00f636edc2",
   "outputs": [
    {
     "name": "stdout",
     "output_type": "stream",
     "text": [
      "15\n",
      "1\n",
      "5\n"
     ]
    }
   ],
   "execution_count": 3
  },
  {
   "metadata": {
    "ExecuteTime": {
     "end_time": "2025-03-03T12:48:51.571480Z",
     "start_time": "2025-03-03T12:48:51.557474Z"
    }
   },
   "cell_type": "code",
   "source": [
    "# 添加\n",
    "print(list_example2)\n",
    "list_example2.extend(list_example2)\n",
    "print(list_example2)\n",
    "list_example2.insert(3,4)\n",
    "print(list_example2)\n",
    "list_example2.append(7)\n",
    "print(list_example2)\n"
   ],
   "id": "58a2737adb9481c0",
   "outputs": [
    {
     "name": "stdout",
     "output_type": "stream",
     "text": [
      "[1, 2, 4, 5, 3]\n",
      "[1, 2, 4, 5, 3, 1, 2, 4, 5, 3]\n",
      "[1, 2, 4, 4, 5, 3, 1, 2, 4, 5, 3]\n",
      "[1, 2, 4, 4, 5, 3, 1, 2, 4, 5, 3, 7]\n"
     ]
    }
   ],
   "execution_count": 4
  },
  {
   "metadata": {
    "ExecuteTime": {
     "end_time": "2025-03-03T12:48:51.602571Z",
     "start_time": "2025-03-03T12:48:51.588439Z"
    }
   },
   "cell_type": "code",
   "source": [
    "# 删除\n",
    "print(list_example2)\n",
    "list_example2.pop() #弹出右侧的值\n",
    "print(list_example2)\n",
    "list_example2.remove(3) #移除从左往右数的第一个为3的数\n",
    "print(list_example2)\n",
    "list_example2.pop(2) #弹出index为2的元素\n",
    "print(list_example2)\n",
    "del list_example2[0:2] #删除一指定部分\n",
    "print(list_example2)\n",
    "list_example2_copy = list_example2.copy() #浅拷贝一份\n",
    "list_example2.clear()\n",
    "print(list_example2)"
   ],
   "id": "db18ed1a133b2ae8",
   "outputs": [
    {
     "name": "stdout",
     "output_type": "stream",
     "text": [
      "[1, 2, 4, 4, 5, 3, 1, 2, 4, 5, 3, 7]\n",
      "[1, 2, 4, 4, 5, 3, 1, 2, 4, 5, 3]\n",
      "[1, 2, 4, 4, 5, 1, 2, 4, 5, 3]\n",
      "[1, 2, 4, 5, 1, 2, 4, 5, 3]\n",
      "[4, 5, 1, 2, 4, 5, 3]\n",
      "[]\n"
     ]
    }
   ],
   "execution_count": 5
  },
  {
   "metadata": {
    "ExecuteTime": {
     "end_time": "2025-03-03T12:48:51.633307Z",
     "start_time": "2025-03-03T12:48:51.619302Z"
    }
   },
   "cell_type": "code",
   "source": [
    "#改动\n",
    "list_example2 = list_example2_copy\n",
    "print(list_example2)\n",
    "list_example2.reverse()\n",
    "print(list_example2)\n",
    "list_example2.sort()\n",
    "# sort的排序是从小到大排序的\n",
    "print(list_example2)"
   ],
   "id": "3172dbaa2a64ae10",
   "outputs": [
    {
     "name": "stdout",
     "output_type": "stream",
     "text": [
      "[4, 5, 1, 2, 4, 5, 3]\n",
      "[3, 5, 4, 2, 1, 5, 4]\n",
      "[1, 2, 3, 4, 4, 5, 5]\n"
     ]
    }
   ],
   "execution_count": 6
  },
  {
   "metadata": {},
   "cell_type": "markdown",
   "source": "注意在python中for循环不支持对变量的动态修改而while可以",
   "id": "115467dbcff857cf"
  },
  {
   "metadata": {},
   "cell_type": "markdown",
   "source": "## 字符串",
   "id": "a531d59ea9cab52f"
  },
  {
   "metadata": {
    "ExecuteTime": {
     "end_time": "2025-03-05T04:04:15.536829Z",
     "start_time": "2025-03-05T04:04:15.527567Z"
    }
   },
   "cell_type": "code",
   "source": [
    "# 创建字符串\n",
    "string_example = 'hello world'\n",
    "string_example2 = ''.join(string_example)\n"
   ],
   "id": "926a1cbd20b0fbe5",
   "outputs": [],
   "execution_count": 1
  },
  {
   "metadata": {
    "ExecuteTime": {
     "end_time": "2025-03-05T04:54:26.763989Z",
     "start_time": "2025-03-05T04:54:26.755032Z"
    }
   },
   "cell_type": "code",
   "source": [
    "# 修改字符串\n",
    "string_example3 = string_example.capitalize()\n",
    "print(string_example3)\n",
    "\n",
    "string_example4 = string_example3.casefold()\n",
    "print(string_example4)\n",
    "\n",
    "string_example5 = string_example3.center(32,'-')\n",
    "print(string_example5)\n",
    "\n",
    "string_example6 = string_example3.rjust(32,'-')\n",
    "print(string_example6)\n",
    "\n",
    "find_result = string_example6.endswith('world',0,1)\n",
    "print(find_result)\n",
    "\n",
    "find_result = string_example6.endswith('world',0,len(string_example6))\n",
    "print(find_result)\n",
    "# 对应的还有startwith等方法\n",
    "\n",
    "find_substring = string_example6.find('world')\n",
    "# 找到目标字串所在的字符串的最小索引\n",
    "print(find_substring)\n",
    "# 对应的还有有rfind，从右边开始找\n",
    "\n",
    "string_example7 = 'what is {0}'\n",
    "string_example8 = string_example7.format(string_example)\n",
    "print(string_example8)\n",
    "\n",
    "string_example9 = string_example8.lstrip('what is ')\n",
    "print(string_example9)\n",
    "# 使用lstrip的作用是移除字符串前面包含了'what is '里任何一个字符的字符直到第一个字符不在'what is '里\n",
    "\n",
    "string_example10 = string_example8.removeprefix('what is ')\n",
    "# 这个就是正常逻辑里的移除前缀\n",
    "print(string_example10)\n",
    "\n",
    "\n",
    "string_example11 = string_example.replace('world','guaishou')\n",
    "print(string_example11)"
   ],
   "id": "d6ef61382ec554a4",
   "outputs": [
    {
     "name": "stdout",
     "output_type": "stream",
     "text": [
      "Hello world\n",
      "hello world\n",
      "----------Hello world-----------\n",
      "---------------------Hello world\n",
      "False\n",
      "True\n",
      "27\n",
      "what is hello world\n",
      "ello world\n",
      "hello world\n",
      "hello guaishou\n"
     ]
    }
   ],
   "execution_count": 14
  },
  {
   "metadata": {
    "ExecuteTime": {
     "end_time": "2025-03-05T05:05:48.940981Z",
     "start_time": "2025-03-05T05:05:48.930425Z"
    }
   },
   "cell_type": "code",
   "source": [
    "# 字符串输出\n",
    "print(string_example11)\n",
    "print('%(string_example11)s how are you %(digit)02d'%{'string_example11': string_example11, 'digit':4000.1113})\n",
    "\n",
    "# 推荐输出方式\n",
    "print(f\"{string_example11} how are you? it is {40000.1134:.2f}\")"
   ],
   "id": "141d5d9552f2bf92",
   "outputs": [
    {
     "name": "stdout",
     "output_type": "stream",
     "text": [
      "hello guaishou\n",
      "hello guaishou how are you 4000\n",
      "hello guaishou how are you? it is 40000.11\n"
     ]
    }
   ],
   "execution_count": 21
  },
  {
   "metadata": {},
   "cell_type": "markdown",
   "source": "## dict",
   "id": "2d5cb8a1203994c"
  },
  {
   "metadata": {},
   "cell_type": "code",
   "outputs": [],
   "execution_count": null,
   "source": "# 字典的创建",
   "id": "d131afc228b363b6"
  },
  {
   "metadata": {},
   "cell_type": "code",
   "outputs": [],
   "execution_count": null,
   "source": "# 字典的遍历",
   "id": "deadc15179b930d2"
  }
 ],
 "metadata": {
  "kernelspec": {
   "display_name": "Python 3",
   "language": "python",
   "name": "python3"
  },
  "language_info": {
   "codemirror_mode": {
    "name": "ipython",
    "version": 2
   },
   "file_extension": ".py",
   "mimetype": "text/x-python",
   "name": "python",
   "nbconvert_exporter": "python",
   "pygments_lexer": "ipython2",
   "version": "2.7.6"
  }
 },
 "nbformat": 4,
 "nbformat_minor": 5
}
